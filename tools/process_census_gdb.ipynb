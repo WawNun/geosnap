{
 "cells": [
  {
   "cell_type": "markdown",
   "id": "female-chosen",
   "metadata": {},
   "source": [
    "This notebook demonstrates internal functions the geosnap team uses to build its curated datasets from the U.S. Census bureau. Most users will not need these, but we include the code here for tranparency and reproducibility"
   ]
  },
  {
   "cell_type": "code",
   "execution_count": 12,
   "id": "intended-bangkok",
   "metadata": {},
   "outputs": [],
   "source": [
    "import fiona\n",
    "from geosnap.io import get_census_gdb, convert_census_gdb\n",
    "from geosnap.util import process_acs"
   ]
  },
  {
   "cell_type": "markdown",
   "id": "pressed-label",
   "metadata": {},
   "source": [
    "The `get_census_gdb` function will fetch geodatabases containing ACS demographic profile data (which contains most of the useful variables) and store them locally for processing"
   ]
  },
  {
   "cell_type": "code",
   "execution_count": 22,
   "id": "short-swimming",
   "metadata": {},
   "outputs": [
    {
     "data": {
      "text/plain": [
       "\u001b[0;31mSignature:\u001b[0m \u001b[0mget_census_gdb\u001b[0m\u001b[0;34m(\u001b[0m\u001b[0myears\u001b[0m\u001b[0;34m=\u001b[0m\u001b[0;32mNone\u001b[0m\u001b[0;34m,\u001b[0m \u001b[0mgeom_level\u001b[0m\u001b[0;34m=\u001b[0m\u001b[0;34m'blockgroup'\u001b[0m\u001b[0;34m,\u001b[0m \u001b[0moutput_dir\u001b[0m\u001b[0;34m=\u001b[0m\u001b[0;32mNone\u001b[0m\u001b[0;34m)\u001b[0m\u001b[0;34m\u001b[0m\u001b[0;34m\u001b[0m\u001b[0m\n",
       "\u001b[0;31mDocstring:\u001b[0m\n",
       "Fetch file geodatabases of ACS demographic profile data from the Census bureau server.\n",
       "\n",
       "Parameters\n",
       "----------\n",
       "years : list, optional\n",
       "    set of years to download (2010 onward), defaults to 2010-2018\n",
       "geom_level : str, optional\n",
       "    geographic unit to download (tract or blockgroup), by default \"blockgroup\"\n",
       "output_dir : str, optional\n",
       "    output directory to write files, by default None\n",
       "\u001b[0;31mFile:\u001b[0m      ~/Dropbox/projects/geosnap/geosnap/io/util.py\n",
       "\u001b[0;31mType:\u001b[0m      function\n"
      ]
     },
     "metadata": {},
     "output_type": "display_data"
    }
   ],
   "source": [
    "get_census_gdb?"
   ]
  },
  {
   "cell_type": "code",
   "execution_count": 3,
   "id": "romance-calvin",
   "metadata": {},
   "outputs": [],
   "source": [
    "get_census_gdb(years=['2014'], output_dir=\".\", geom_level='blockgroup')"
   ]
  },
  {
   "cell_type": "markdown",
   "id": "sound-census",
   "metadata": {},
   "source": [
    "Using fiona we can quickly list all the layers present in the geodatabase"
   ]
  },
  {
   "cell_type": "code",
   "execution_count": 6,
   "id": "martial-amsterdam",
   "metadata": {},
   "outputs": [
    {
     "data": {
      "text/plain": [
       "['ACS_2014_5YR_BG',\n",
       " 'BG_METADATA_2014',\n",
       " 'X00_COUNTS',\n",
       " 'X01_AGE_AND_SEX',\n",
       " 'X02_RACE',\n",
       " 'X03_HISPANIC_OR_LATINO_ORIGIN',\n",
       " 'X07_MIGRATION',\n",
       " 'X08_COMMUTING',\n",
       " 'X09_CHILDREN_HOUSEHOLD_RELATIONSHIP',\n",
       " 'X11_HOUSEHOLD_FAMILY_SUBFAMILIES',\n",
       " 'X12_MARITAL_STATUS_AND_HISTORY',\n",
       " 'X14_SCHOOL_ENROLLMENT',\n",
       " 'X15_EDUCATIONAL_ATTAINMENT',\n",
       " 'X16_LANGUAGE_SPOKEN_AT_HOME',\n",
       " 'X17_POVERTY',\n",
       " 'X19_INCOME',\n",
       " 'X20_EARNINGS',\n",
       " 'X21_VETERAN_STATUS',\n",
       " 'X22_FOOD_STAMPS',\n",
       " 'X23_EMPLOYMENT_STATUS',\n",
       " 'X24_INDUSTRY_OCCUPATION',\n",
       " 'X27_HEALTH_INSURANCE',\n",
       " 'X99_IMPUTATION',\n",
       " 'X25_HOUSING_CHARACTERISTICS']"
      ]
     },
     "execution_count": 6,
     "metadata": {},
     "output_type": "execute_result"
    }
   ],
   "source": [
    "fiona.listlayers(\"ACS_2014_5YR_BG.gdb.zip\")"
   ]
  },
  {
   "cell_type": "markdown",
   "id": "plain-mediterranean",
   "metadata": {},
   "source": [
    "File geodatabases can be convient, but they are also painfuly slow to process in python, so the `convert_census_gdb` will convert the layers in a gdb to a parquet file instead"
   ]
  },
  {
   "cell_type": "code",
   "execution_count": 7,
   "id": "novel-vinyl",
   "metadata": {},
   "outputs": [
    {
     "data": {
      "text/plain": [
       "\u001b[0;31mSignature:\u001b[0m\n",
       "\u001b[0mconvert_census_gdb\u001b[0m\u001b[0;34m(\u001b[0m\u001b[0;34m\u001b[0m\n",
       "\u001b[0;34m\u001b[0m    \u001b[0mfile\u001b[0m\u001b[0;34m,\u001b[0m\u001b[0;34m\u001b[0m\n",
       "\u001b[0;34m\u001b[0m    \u001b[0mlayers\u001b[0m\u001b[0;34m,\u001b[0m\u001b[0;34m\u001b[0m\n",
       "\u001b[0;34m\u001b[0m    \u001b[0myear\u001b[0m\u001b[0;34m=\u001b[0m\u001b[0;32mNone\u001b[0m\u001b[0;34m,\u001b[0m\u001b[0;34m\u001b[0m\n",
       "\u001b[0;34m\u001b[0m    \u001b[0mlevel\u001b[0m\u001b[0;34m=\u001b[0m\u001b[0;34m'bg'\u001b[0m\u001b[0;34m,\u001b[0m\u001b[0;34m\u001b[0m\n",
       "\u001b[0;34m\u001b[0m    \u001b[0msave_intermediate\u001b[0m\u001b[0;34m=\u001b[0m\u001b[0;32mTrue\u001b[0m\u001b[0;34m,\u001b[0m\u001b[0;34m\u001b[0m\n",
       "\u001b[0;34m\u001b[0m    \u001b[0moutput_dir\u001b[0m\u001b[0;34m=\u001b[0m\u001b[0;34m'.'\u001b[0m\u001b[0;34m,\u001b[0m\u001b[0;34m\u001b[0m\n",
       "\u001b[0;34m\u001b[0m\u001b[0;34m)\u001b[0m\u001b[0;34m\u001b[0m\u001b[0;34m\u001b[0m\u001b[0m\n",
       "\u001b[0;31mDocstring:\u001b[0m\n",
       "Convert file geodatabases from Census into (set of) parquet files.\n",
       "\n",
       "Parameters\n",
       "----------\n",
       "file : str\n",
       "    path to file geodatabase\n",
       "layers : list\n",
       "    set of layers to extract from gdb\n",
       "year : str, optional\n",
       "    [description], by default None\n",
       "level : str, optional\n",
       "    geographic level of data ('bg' for blockgroups or 'tr' for tract), by default \"bg\"\n",
       "save_intermediate : bool, optional\n",
       "    if true, each layer will be stored separately as a parquet file, by default True\n",
       "output_dir : str, optional\n",
       "    path to directory where parquet files will be written, by default \".\"\n",
       "\u001b[0;31mFile:\u001b[0m      ~/Dropbox/projects/geosnap/geosnap/io/util.py\n",
       "\u001b[0;31mType:\u001b[0m      function\n"
      ]
     },
     "metadata": {},
     "output_type": "display_data"
    }
   ],
   "source": [
    "convert_census_gdb?"
   ]
  },
  {
   "cell_type": "code",
   "execution_count": 8,
   "id": "divine-encoding",
   "metadata": {},
   "outputs": [
    {
     "name": "stdout",
     "output_type": "stream",
     "text": [
      "X00_COUNTS\n"
     ]
    }
   ],
   "source": [
    "convert_census_gdb(file='ACS_2014_5YR_BG.gdb.zip', save_intermediate=True, layers=['X00_COUNTS'], year='2014', level='tract')"
   ]
  },
  {
   "cell_type": "code",
   "execution_count": 9,
   "id": "powered-cathedral",
   "metadata": {},
   "outputs": [],
   "source": [
    "import pandas as pd"
   ]
  },
  {
   "cell_type": "code",
   "execution_count": 10,
   "id": "confident-perry",
   "metadata": {},
   "outputs": [
    {
     "data": {
      "text/html": [
       "<div>\n",
       "<style scoped>\n",
       "    .dataframe tbody tr th:only-of-type {\n",
       "        vertical-align: middle;\n",
       "    }\n",
       "\n",
       "    .dataframe tbody tr th {\n",
       "        vertical-align: top;\n",
       "    }\n",
       "\n",
       "    .dataframe thead th {\n",
       "        text-align: right;\n",
       "    }\n",
       "</style>\n",
       "<table border=\"1\" class=\"dataframe\">\n",
       "  <thead>\n",
       "    <tr style=\"text-align: right;\">\n",
       "      <th></th>\n",
       "      <th>B00001_001E</th>\n",
       "      <th>B00002_001E</th>\n",
       "    </tr>\n",
       "    <tr>\n",
       "      <th>GEOID</th>\n",
       "      <th></th>\n",
       "      <th></th>\n",
       "    </tr>\n",
       "  </thead>\n",
       "  <tbody>\n",
       "    <tr>\n",
       "      <th>15000US020130001001</th>\n",
       "      <td>283.0</td>\n",
       "      <td>89.0</td>\n",
       "    </tr>\n",
       "    <tr>\n",
       "      <th>15000US020130001002</th>\n",
       "      <td>410.0</td>\n",
       "      <td>138.0</td>\n",
       "    </tr>\n",
       "    <tr>\n",
       "      <th>15000US020130001003</th>\n",
       "      <td>473.0</td>\n",
       "      <td>183.0</td>\n",
       "    </tr>\n",
       "    <tr>\n",
       "      <th>15000US020160001001</th>\n",
       "      <td>418.0</td>\n",
       "      <td>486.0</td>\n",
       "    </tr>\n",
       "    <tr>\n",
       "      <th>15000US020160002001</th>\n",
       "      <td>561.0</td>\n",
       "      <td>211.0</td>\n",
       "    </tr>\n",
       "    <tr>\n",
       "      <th>...</th>\n",
       "      <td>...</td>\n",
       "      <td>...</td>\n",
       "    </tr>\n",
       "    <tr>\n",
       "      <th>15000US560459511001</th>\n",
       "      <td>223.0</td>\n",
       "      <td>124.0</td>\n",
       "    </tr>\n",
       "    <tr>\n",
       "      <th>15000US560459511002</th>\n",
       "      <td>234.0</td>\n",
       "      <td>63.0</td>\n",
       "    </tr>\n",
       "    <tr>\n",
       "      <th>15000US560459513001</th>\n",
       "      <td>95.0</td>\n",
       "      <td>46.0</td>\n",
       "    </tr>\n",
       "    <tr>\n",
       "      <th>15000US560459513002</th>\n",
       "      <td>92.0</td>\n",
       "      <td>46.0</td>\n",
       "    </tr>\n",
       "    <tr>\n",
       "      <th>15000US560459513003</th>\n",
       "      <td>125.0</td>\n",
       "      <td>50.0</td>\n",
       "    </tr>\n",
       "  </tbody>\n",
       "</table>\n",
       "<p>220333 rows × 2 columns</p>\n",
       "</div>"
      ],
      "text/plain": [
       "                     B00001_001E  B00002_001E\n",
       "GEOID                                        \n",
       "15000US020130001001        283.0         89.0\n",
       "15000US020130001002        410.0        138.0\n",
       "15000US020130001003        473.0        183.0\n",
       "15000US020160001001        418.0        486.0\n",
       "15000US020160002001        561.0        211.0\n",
       "...                          ...          ...\n",
       "15000US560459511001        223.0        124.0\n",
       "15000US560459511002        234.0         63.0\n",
       "15000US560459513001         95.0         46.0\n",
       "15000US560459513002         92.0         46.0\n",
       "15000US560459513003        125.0         50.0\n",
       "\n",
       "[220333 rows x 2 columns]"
      ]
     },
     "execution_count": 10,
     "metadata": {},
     "output_type": "execute_result"
    }
   ],
   "source": [
    "pd.read_parquet('acs_2014_X00_COUNTS_tract.parquet')"
   ]
  },
  {
   "cell_type": "markdown",
   "id": "improving-fairy",
   "metadata": {},
   "source": [
    "If we wanted to convert all available data, we could pass `fiona.listlayers(\"ACS_2014_5YR_BG.gdb.zip\")` to the `layers` argument in `convert_census_gdb`"
   ]
  },
  {
   "cell_type": "markdown",
   "id": "determined-strength",
   "metadata": {},
   "source": [
    "The resulting (combined) parquet files can be processed with `process_acs` to generate the datasets described in the geosnap codebook. Note, unless all layers are processed from the geodatabase, several variables will be unavailable"
   ]
  },
  {
   "cell_type": "code",
   "execution_count": 15,
   "id": "national-kuwait",
   "metadata": {},
   "outputs": [],
   "source": [
    "df = pd.read_parquet('acs_2014_bg.parquet')"
   ]
  },
  {
   "cell_type": "code",
   "execution_count": 20,
   "id": "excellent-secretariat",
   "metadata": {},
   "outputs": [],
   "source": [
    "df.index.name='GEOID'\n",
    "df.reset_index(inplace=True)"
   ]
  },
  {
   "cell_type": "code",
   "execution_count": 21,
   "id": "nuclear-sharing",
   "metadata": {},
   "outputs": [
    {
     "name": "stdout",
     "output_type": "stream",
     "text": [
      "n_mexican_pop=B03001_004E name 'B03001_004E' is not defined\n",
      "n_cuban_pop=B03001_006E name 'B03001_006E' is not defined\n",
      "n_puerto_rican_pop=B03001_005E name 'B03001_005E' is not defined\n",
      "n_russian_pop=B04004_064E name 'B04004_064E' is not defined\n",
      "n_italian_pop=B04004_051E name 'B04004_051E' is not defined\n",
      "n_german_pop=B04004_042E name 'B04004_042E' is not defined\n",
      "n_irish_pop=B04004_049E name 'B04004_049E' is not defined\n",
      "n_scandaniavian_pop=B04004_065E name 'B04004_065E' is not defined\n",
      "n_foreign_born_pop=B05002_013E name 'B05002_013E' is not defined\n",
      "n_recent_immigrant_pop=B05005_007E name 'B05005_007E' is not defined\n",
      "n_naturalized_pop=B05002_014E name 'B05002_014E' is not defined\n",
      "n_age_5_older=B16001_001E name 'B16001_001E' is not defined\n",
      "n_other_language=B16001_001E - B16001_002E name 'B16001_001E' is not defined\n",
      "n_limited_english=DP02_0113E name 'DP02_0113E' is not defined\n",
      "n_russian_born_pop=B05006_040E name 'B05006_040E' is not defined\n",
      "n_italian_born_pop=B05006_023E name 'B05006_023E' is not defined\n",
      "n_german_born_pop=B05006_017E name 'B05006_017E' is not defined\n",
      "n_irish_born_pop=B05006_008E name 'B05006_008E' is not defined\n",
      "n_scandaniavian_born_pop=B05006_009E+B05006_010E+B05006_011E+B05006_012E name 'B05006_009E' is not defined\n",
      "n_total_housing_units=B25002_001E name 'B25002_001E' is not defined\n",
      "n_vacant_housing_units=B25002_003E name 'B25002_003E' is not defined\n",
      "n_occupied_housing_units=B25002_002E name 'B25002_002E' is not defined\n",
      "n_owner_occupied_housing_units=B25003_002E name 'B25003_002E' is not defined\n",
      "n_renter_occupied_housing_units=B25003_003E name 'B25003_003E' is not defined\n",
      "n_housing_units_multiunit_structures_denom=B25024_001E name 'B25024_001E' is not defined\n",
      "n_housing_units_multiunit_structures=B25024_004E+B25024_005E+B25024_006E+B25024_007E+B25024_008E+B25024_009E name 'B25024_004E' is not defined\n",
      "n_total_housing_units_sample=B25024_001E name 'B25024_001E' is not defined\n",
      "median_home_value=B25077_001E name 'B25077_001E' is not defined\n",
      "median_contract_rent=B25058_001E name 'B25058_001E' is not defined\n",
      "n_occupied_housing_units_sample=B25003_001E name 'B25003_001E' is not defined\n",
      "n_persons_under_18=B01001_003E+B01001_004E+B01001_005E+B01001_006E+B01001_027E+B01001_028E+B01001_029E+B01001_030E name 'B01001_003E' is not defined\n",
      "n_persons_over_60=B01001_018E+B01001_019E+B01001_020E+B01001_021E+B01001_022E+B01001_023E+B01001_024E+B01001_025E+B01001_042E+B01001_043E+B01001_044E+B01001_045E+B01001_046E+B01001_047E+B01001_048E+B01001_049E name 'B01001_018E' is not defined\n",
      "n_persons_over_75=B01001_047E+B01001_048E+B01001_049E+B01001_023E+B01001_024E+B01001_025E name 'B01001_047E' is not defined\n",
      "n_persons_over_15=B12001_001E name 'B12001_001E' is not defined\n",
      "n_persons_over_25=B15002_001E name 'B15002_001E' is not defined\n",
      "n_married=B12001_005E name 'B12001_005E' is not defined\n",
      "n_widowed_divorced=B12001_007E+B12001_009E+B12001_010E+B12001_016E+B12001_018E+B12001_019E name 'B12001_007E' is not defined\n",
      "n_total_families=B17010_001E name 'B17010_001E' is not defined\n",
      "n_female_headed_families=B17010_017E name 'B17010_017E' is not defined\n",
      "n_nonhisp_white_persons=B03002_003E name 'B03002_003E' is not defined\n",
      "n_nonhisp_black_persons=B03002_004E name 'B03002_004E' is not defined\n",
      "n_hispanic_persons=B03002_012E name 'B03002_012E' is not defined\n",
      "n_native_persons=B03002_005E name 'B03002_005E' is not defined\n",
      "n_hawaiian_persons=B02001_006E name 'B02001_006E' is not defined\n",
      "n_asian_indian_persons=B03002_006E+B03002_007E name 'B03002_006E' is not defined\n",
      "n_chinese_persons=B02015_007E+B02015_020E name 'B02015_007E' is not defined\n",
      "n_filipino_persons=B02015_008E name 'B02015_008E' is not defined\n",
      "n_japanese_persons=B02015_011E name 'B02015_011E' is not defined\n",
      "n_korean_persons=B02015_012E name 'B02015_012E' is not defined\n",
      "n_asian_persons=B03002_006E+B03002_007E name 'B03002_006E' is not defined\n",
      "n_vietnamese_persons=B02018_022E name 'B02018_022E' is not defined\n",
      "n_white_age_distribution=B01001H_001E name 'B01001H_001E' is not defined\n",
      "n_white_under_15=B01001H_003E+B01001H_004E+B01001H_005E+B01001H_018E+B01001H_019E+B01001H_020E name 'B01001H_003E' is not defined\n",
      "n_white_over_65=B01001H_014E+B01001H_015E+B01001H_016E+B01001H_029E+B01001H_030E+B01001H_031E name 'B01001H_014E' is not defined\n",
      "n_black_age_distribution=B01001B_001E name 'B01001B_001E' is not defined\n",
      "n_black_under_15=B01001B_003E+B01001B_004E+B01001B_005E+B01001B_018E+B01001B_019E+B01001B_020E name 'B01001B_003E' is not defined\n",
      "n_black_over_65=B01001B_014E+B01001B_015E+B01001B_016E+B01001B_029E+B01001B_030E+B01001B_031E name 'B01001B_014E' is not defined\n",
      "n_hispanic_age_distribution=B01001I_001E name 'B01001I_001E' is not defined\n",
      "n_hispanic_under_15=B01001I_003E+B01001I_004E+B01001I_005E+B01001I_018E+B01001I_019E+B01001I_020E name 'B01001I_003E' is not defined\n",
      "n_hispanic_over_65=B01001I_014E+B01001I_015E+B01001I_016E+B01001I_029E+B01001I_030E+B01001I_031E name 'B01001I_014E' is not defined\n",
      "n_native_age_distribution=B01001C_001E name 'B01001C_001E' is not defined\n",
      "n_native_under_15=B01001C_003E+B01001C_004E+B01001C_005E+B01001C_018E+B01001C_019E+B01001C_020E name 'B01001C_003E' is not defined\n",
      "n_native_over_65=B01001C_014E+B01001C_015E+B01001C_016E+B01001C_029E+B01001C_030E+B01001C_031E name 'B01001C_014E' is not defined\n",
      "n_asian_age_distribution=B01001D_001E+B01001E_001E name 'B01001D_001E' is not defined\n",
      "n_asian_under_15=B01001D_003E+B01001D_004E+B01001D_005E+B01001D_018E+B01001D_019E+B01001D_020E+B01001E_003E+B01001E_004E+B01001E_005E+B01001E_018E+B01001E_019E+B01001E_020E name 'B01001D_003E' is not defined\n",
      "n_asian_over_65=B01001D_014E+B01001D_015E+B01001D_016E+B01001E_014E+B01001E_015E+B01001E_016E+B01001E_029E+B01001E_030E+B01001E_031E+B01001D_029E+B01001D_030E+B01001D_031E name 'B01001D_014E' is not defined\n",
      "n_labor_force=B27011_002E name 'B27011_002E' is not defined\n",
      "n_unemployed_persons=B23001_008E+B23001_015E+B23001_022E+B23001_029E+B23001_036E+B23001_044E+B23001_050E+B23001_057E+B23001_064E+B23001_071E+B23001_094E+B23001_101E+B23001_108E+B23001_115E+B23001_122E+B23001_129E+B23001_136E+B23001_143E+B23001_150E+B23001_157E name 'B23001_008E' is not defined\n",
      "n_employed_over_16=B23001_007E+B23001_014E+B23001_021E+B23001_028E+B23001_035E+B23001_042E+B23001_049E+B23001_049E+B23001_056E+B23001_063E+B23001_070E+B23001_093E+B23001_100E+B23001_107E+B23001_114E+B23001_121E+B23001_128E+B23001_135E+B23001_142E+B23001_149E+B23001_156E name 'B23001_007E' is not defined\n",
      "n_civilians_over_16=C24010_001E name 'C24010_001E' is not defined\n",
      "n_veterans=B21001_002E name 'B21001_002E' is not defined\n",
      "median_household_income=B19013_001E name 'B19013_001E' is not defined\n",
      "n_total_households=B19001_001E name 'B19001_001E' is not defined\n",
      "median_income_whitehh=B19013H_001E name 'B19013H_001E' is not defined\n",
      "n_white_households=B19001H_001E name 'B19001H_001E' is not defined\n",
      "median_income_blackhh=B19013B_001E name 'B19013B_001E' is not defined\n",
      "n_black_households=B19001B_001E name 'B19001B_001E' is not defined\n",
      "median_income_hispanichh=B19013I_001E name 'B19013I_001E' is not defined\n",
      "n_hispanic_households=B19001I_001E name 'B19001I_001E' is not defined\n",
      "n_asian_households=B19001D_001E+B19001E_001E name 'B19001D_001E' is not defined\n",
      "per_capita_income=B19301_001E name 'B19301_001E' is not defined\n",
      "n_poverty_determined_persons=B17001_001E name 'B17001_001E' is not defined\n",
      "n_poverty_persons=B17001_002E name 'B17001_002E' is not defined\n",
      "n_poverty_over_65=B17001_015E+B17001_016E+B17001_029E+B17001_030E name 'B17001_015E' is not defined\n",
      "n_poverty_determined_families=B17001_001E name 'B17001_001E' is not defined\n",
      "n_poverty_families_children=B17010_004E+B17010_011E+B17010_017E name 'B17010_004E' is not defined\n",
      "n_poverty_determined_white=B17001A_001E name 'B17001A_001E' is not defined\n",
      "n_poverty_white=B17001A_002E name 'B17001A_002E' is not defined\n",
      "n_poverty_determined_black=B17001B_001E name 'B17001B_001E' is not defined\n",
      "n_poverty_black=B17001B_002E name 'B17001B_002E' is not defined\n",
      "n_poverty_determined_hispanic=B17020I_001E name 'B17020I_001E' is not defined\n",
      "n_poverty_hispanic=B17020I_002E name 'B17020I_002E' is not defined\n",
      "n_poverty_determined_native=B17020C_001E name 'B17020C_001E' is not defined\n",
      "n_poverty_native=B17020C_002E name 'B17020C_002E' is not defined\n",
      "n_poverty_determined_asian=B17020E_001E name 'B17020E_001E' is not defined\n",
      "n_poverty_asian=B17020E_002E name 'B17020E_002E' is not defined\n",
      "n_edu_college_greater=B15002_015E+B15002_016E+B15002_017E+B15002_018E+B15002_032E+B15002_033E+B15002_034E+B15002_035E name 'B15002_015E' is not defined\n",
      "n_edu_hs_less=B15002_003E+B15002_004E+B15002_005E+B15002_006E+B15002_007E+B15002_008E+B15002_009E+B15002_010E+B15002_020E+B15002_021E+B15002_022E+B15002_023E+B15002_024E+B15002_025E+B15002_026E+B15002_027E name 'B15002_003E' is not defined\n",
      "n_total_pop=B01003_001E name 'B01003_001E' is not defined\n",
      "p_mexican_pop=n_mexican_pop / n_total_pop*100 name 'n_mexican_pop' is not defined\n",
      "p_cuban_pop=n_cuban_pop / n_total_pop*100 name 'n_cuban_pop' is not defined\n",
      "p_puerto_rican_pop=n_puerto_rican_pop / n_total_pop*100 name 'n_puerto_rican_pop' is not defined\n",
      "p_russian_pop=n_russian_pop / n_total_pop*100 name 'n_russian_pop' is not defined\n",
      "p_italian_pop=n_italian_pop / n_total_pop*100 name 'n_italian_pop' is not defined\n",
      "p_german_pop=n_german_pop / n_total_pop*100 name 'n_german_pop' is not defined\n",
      "p_irish_pop=n_irish_pop / n_total_pop*100 name 'n_irish_pop' is not defined\n",
      "p_scandanavian_pop=n_scandaniavian_pop / n_total_pop*100 name 'n_scandaniavian_pop' is not defined\n",
      "p_foreign_born_pop=n_foreign_born_pop / n_total_pop*100 name 'n_foreign_born_pop' is not defined\n",
      "p_recent_immigrant_pop=n_recent_immigrant_pop / n_total_pop*100 name 'n_recent_immigrant_pop' is not defined\n",
      "p_naturalized_pop=n_naturalized_pop / n_total_pop*100 name 'n_naturalized_pop' is not defined\n",
      "p_other_language=n_other_language / n_total_pop*100 name 'n_other_language' is not defined\n",
      "p_limited_english=n_limited_english / n_total_pop*100 name 'n_limited_english' is not defined\n",
      "p_russian_born_pop=n_russian_born_pop / n_total_pop*100 name 'n_russian_born_pop' is not defined\n",
      "p_italian_born_pop=n_italian_born_pop / n_total_pop*100 name 'n_italian_born_pop' is not defined\n",
      "p_german_born_pop=n_german_born_pop / n_total_pop*100 name 'n_german_born_pop' is not defined\n",
      "p_irish_born_pop=n_irish_born_pop / n_total_pop*100 name 'n_irish_born_pop' is not defined\n",
      "p_scandanavian_born_pop=n_scandaniavian_born_pop / n_total_pop*100 name 'n_scandaniavian_born_pop' is not defined\n",
      "n_housing_units_multiunit_structures_denom=n_total_housing_units name 'n_total_housing_units' is not defined\n",
      "n_total_housing_units_sample=n_total_housing_units name 'n_total_housing_units' is not defined\n",
      "p_vacant_housing_units=n_vacant_housing_units / n_total_housing_units*100 name 'n_vacant_housing_units' is not defined\n",
      "p_owner_occupied_units=n_occupied_housing_units / n_total_housing_units*100 name 'n_occupied_housing_units' is not defined\n",
      "p_housing_units_multiunit_structures=n_housing_units_multiunit_structures / n_housing_units_multiunit_structures_denom*100 name 'n_housing_units_multiunit_structures' is not defined\n",
      "p_structures_30_old=n_structures_30_old / n_housing_units_multiunit_structures_denom*100 name 'n_structures_30_old' is not defined\n",
      "p_household_recent_move=n_household_recent_move / n_total_households*100 name 'n_household_recent_move' is not defined\n",
      "p_persons_under_18=n_persons_under_18 / n_total_pop*100 name 'n_persons_under_18' is not defined\n",
      "p_persons_over_60=n_persons_over_60 / n_total_pop*100 name 'n_persons_over_60' is not defined\n",
      "p_persons_over_75=n_persons_over_75 / n_total_pop*100 name 'n_persons_over_75' is not defined\n",
      "p_married=n_married / n_persons_over_15*100 name 'n_married' is not defined\n",
      "p_widowed_divorced=n_widowed_divorced / n_persons_over_15*100 name 'n_widowed_divorced' is not defined\n",
      "p_female_headed_families=n_female_headed_families / n_total_families*100 name 'n_female_headed_families' is not defined\n",
      "p_nonhisp_white_persons=n_nonhisp_white_persons / n_total_pop*100 name 'n_nonhisp_white_persons' is not defined\n",
      "p_nonhisp_black_persons=n_nonhisp_black_persons / n_total_pop*100 name 'n_nonhisp_black_persons' is not defined\n",
      "p_hispanic_persons=n_hispanic_persons / n_total_pop*100 name 'n_hispanic_persons' is not defined\n",
      "p_native_persons=n_native_persons / n_total_pop*100 name 'n_native_persons' is not defined\n",
      "p_asian_persons=n_asian_persons / n_total_pop*100 name 'n_asian_persons' is not defined\n",
      "p_hawaiian_persons=n_hawaiian_persons / n_total_pop*100 name 'n_hawaiian_persons' is not defined\n",
      "p_asian_indian_persons=n_asian_indian_persons / n_total_pop*100 name 'n_asian_indian_persons' is not defined\n",
      "p_chinese_persons=n_chinese_persons / n_total_pop*100 name 'n_chinese_persons' is not defined\n",
      "p_filipino_persons=n_filipino_persons / n_total_pop*100 name 'n_filipino_persons' is not defined\n",
      "p_japanese_persons=n_japanese_persons / n_total_pop*100 name 'n_japanese_persons' is not defined\n",
      "p_korean_persons=n_korean_persons / n_total_pop*100 name 'n_korean_persons' is not defined\n",
      "p_vietnamese_persons=n_vietnamese_persons / n_total_pop*100 name 'n_vietnamese_persons' is not defined\n",
      "p_white_under_15=n_white_under_15 / n_total_pop*100 name 'n_white_under_15' is not defined\n",
      "p_white_over_60=n_white_over_60 / n_total_pop*100 name 'n_white_over_60' is not defined\n",
      "p_white_over_65=n_white_over_65 / n_total_pop*100 name 'n_white_over_65' is not defined\n",
      "p_black_under_15=n_black_under_15 / n_total_pop*100 name 'n_black_under_15' is not defined\n",
      "p_black_over_60=n_black_over_60 / n_total_pop*100 name 'n_black_over_60' is not defined\n",
      "p_black_over_65=n_black_over_65 / n_total_pop*100 name 'n_black_over_65' is not defined\n",
      "p_hispanic_under_15=n_hispanic_under_15 / n_total_pop*100 name 'n_hispanic_under_15' is not defined\n",
      "p_hispanic_over_60=n_hispanic_over_60 / n_total_pop*100 name 'n_hispanic_over_60' is not defined\n",
      "p_hispanic_over_65=n_hispanic_over_65 / n_total_pop*100 name 'n_hispanic_over_65' is not defined\n",
      "p_native_under_15=n_native_under_15 / n_total_pop*100 name 'n_native_under_15' is not defined\n",
      "p_native_over_60=n_native_over_60 / n_total_pop*100 name 'n_native_over_60' is not defined\n",
      "p_native_over_65=n_native_over_65 / n_total_pop*100 name 'n_native_over_65' is not defined\n",
      "p_asian_under_15=n_asian_under_15 / n_total_pop*100 name 'n_asian_under_15' is not defined\n",
      "p_asian_over_60=n_asian_over_60 / n_total_pop*100 name 'n_asian_over_60' is not defined\n",
      "p_asian_over_65=n_asian_over_65 / n_total_pop*100 name 'n_asian_over_65' is not defined\n",
      "p_edu_hs_less=n_edu_hs_less / n_persons_over_25*100 name 'n_edu_hs_less' is not defined\n",
      "p_edu_college_greater=n_edu_college_greater / n_persons_over_25*100 name 'n_edu_college_greater' is not defined\n",
      "p_unemployment_rate=n_unemployed_persons / n_labor_force*100 name 'n_unemployed_persons' is not defined\n",
      "p_employed_professional=n_employed_professional / n_employed_over_16*100 name 'n_employed_professional' is not defined\n",
      "p_employed_manufacturing=n_employed_manufacturing / n_employed_over_16*100 name 'n_employed_manufacturing' is not defined\n",
      "p_employed_self_employed=n_employed_self_employed / n_employed_over_16*100 name 'n_employed_self_employed' is not defined\n",
      "p_veterans=n_veterans / n_total_pop*100 name 'n_veterans' is not defined\n",
      "p_disabled=n_disabled / n_total_pop*100 name 'n_disabled' is not defined\n",
      "p_poverty_rate=n_poverty_persons / n_poverty_determined_persons*100 name 'n_poverty_persons' is not defined\n",
      "p_poverty_rate_over_65=n_poverty_over_65 / n_poverty_determined_persons*100 name 'n_poverty_over_65' is not defined\n",
      "p_poverty_rate_children=n_poverty_families_children / n_poverty_determined_families*100 name 'n_poverty_families_children' is not defined\n",
      "p_poverty_rate_white=n_poverty_white / n_poverty_determined_persons*100 name 'n_poverty_white' is not defined\n",
      "p_poverty_rate_black=n_poverty_black / n_poverty_determined_persons*100 name 'n_poverty_black' is not defined\n",
      "p_poverty_rate_hispanic=n_poverty_hispanic / n_poverty_determined_persons*100 name 'n_poverty_hispanic' is not defined\n",
      "p_poverty_rate_native=n_poverty_native / n_poverty_determined_persons*100 name 'n_poverty_native' is not defined\n",
      "p_poverty_rate_asian=n_poverty_asian / n_poverty_determined_persons*100 name 'n_poverty_asian' is not defined\n"
     ]
    },
    {
     "data": {
      "text/html": [
       "<div>\n",
       "<style scoped>\n",
       "    .dataframe tbody tr th:only-of-type {\n",
       "        vertical-align: middle;\n",
       "    }\n",
       "\n",
       "    .dataframe tbody tr th {\n",
       "        vertical-align: top;\n",
       "    }\n",
       "\n",
       "    .dataframe thead th {\n",
       "        text-align: right;\n",
       "    }\n",
       "</style>\n",
       "<table border=\"1\" class=\"dataframe\">\n",
       "  <thead>\n",
       "    <tr style=\"text-align: right;\">\n",
       "      <th></th>\n",
       "    </tr>\n",
       "    <tr>\n",
       "      <th>GEOID</th>\n",
       "    </tr>\n",
       "  </thead>\n",
       "  <tbody>\n",
       "    <tr>\n",
       "      <th>15000US020130001001</th>\n",
       "    </tr>\n",
       "    <tr>\n",
       "      <th>15000US020130001002</th>\n",
       "    </tr>\n",
       "    <tr>\n",
       "      <th>15000US020130001003</th>\n",
       "    </tr>\n",
       "    <tr>\n",
       "      <th>15000US020160001001</th>\n",
       "    </tr>\n",
       "    <tr>\n",
       "      <th>15000US020160002001</th>\n",
       "    </tr>\n",
       "    <tr>\n",
       "      <th>...</th>\n",
       "    </tr>\n",
       "    <tr>\n",
       "      <th>15000US560459511001</th>\n",
       "    </tr>\n",
       "    <tr>\n",
       "      <th>15000US560459511002</th>\n",
       "    </tr>\n",
       "    <tr>\n",
       "      <th>15000US560459513001</th>\n",
       "    </tr>\n",
       "    <tr>\n",
       "      <th>15000US560459513002</th>\n",
       "    </tr>\n",
       "    <tr>\n",
       "      <th>15000US560459513003</th>\n",
       "    </tr>\n",
       "  </tbody>\n",
       "</table>\n",
       "<p>220333 rows × 0 columns</p>\n",
       "</div>"
      ],
      "text/plain": [
       "Empty DataFrame\n",
       "Columns: []\n",
       "Index: [15000US020130001001, 15000US020130001002, 15000US020130001003, 15000US020160001001, 15000US020160002001, 15000US020160002002, 15000US020200001011, 15000US020200001012, 15000US020200001013, 15000US020200001021, 15000US020200001022, 15000US020200001023, 15000US020200001024, 15000US020200002011, 15000US020200002012, 15000US020200002021, 15000US020200002022, 15000US020200002023, 15000US020200002024, 15000US020200002031, 15000US020200002032, 15000US020200002033, 15000US020200002034, 15000US020200002035, 15000US020200002041, 15000US020200002042, 15000US020200003001, 15000US020200004001, 15000US020200005001, 15000US020200005002, 15000US020200006001, 15000US020200006002, 15000US020200006003, 15000US020200006004, 15000US020200006005, 15000US020200006006, 15000US020200006007, 15000US020200006008, 15000US020200007011, 15000US020200007012, 15000US020200007013, 15000US020200007014, 15000US020200007021, 15000US020200007022, 15000US020200007023, 15000US020200007031, 15000US020200007032, 15000US020200007033, 15000US020200007034, 15000US020200007035, 15000US020200008011, 15000US020200008012, 15000US020200008013, 15000US020200008014, 15000US020200008015, 15000US020200008016, 15000US020200008017, 15000US020200008021, 15000US020200008022, 15000US020200008023, 15000US020200008024, 15000US020200008025, 15000US020200009011, 15000US020200009012, 15000US020200009013, 15000US020200009021, 15000US020200009022, 15000US020200009023, 15000US020200010001, 15000US020200010002, 15000US020200010003, 15000US020200010004, 15000US020200011001, 15000US020200011002, 15000US020200012001, 15000US020200012002, 15000US020200012003, 15000US020200012004, 15000US020200012005, 15000US020200013001, 15000US020200013002, 15000US020200013003, 15000US020200014001, 15000US020200014002, 15000US020200014003, 15000US020200014004, 15000US020200014005, 15000US020200014006, 15000US020200015001, 15000US020200015002, 15000US020200015003, 15000US020200015004, 15000US020200015005, 15000US020200016011, 15000US020200016012, 15000US020200016013, 15000US020200016021, 15000US020200016022, 15000US020200016023, 15000US020200016024, ...]\n",
       "\n",
       "[220333 rows x 0 columns]"
      ]
     },
     "execution_count": 21,
     "metadata": {},
     "output_type": "execute_result"
    }
   ],
   "source": [
    "process_acs(df)"
   ]
  },
  {
   "cell_type": "code",
   "execution_count": null,
   "id": "historic-perth",
   "metadata": {},
   "outputs": [],
   "source": []
  }
 ],
 "metadata": {
  "kernelspec": {
   "display_name": "Python [conda env:geosnap]",
   "language": "python",
   "name": "conda-env-geosnap-py"
  },
  "language_info": {
   "codemirror_mode": {
    "name": "ipython",
    "version": 3
   },
   "file_extension": ".py",
   "mimetype": "text/x-python",
   "name": "python",
   "nbconvert_exporter": "python",
   "pygments_lexer": "ipython3",
   "version": "3.8.8"
  },
  "widgets": {
   "application/vnd.jupyter.widget-state+json": {
    "state": {},
    "version_major": 2,
    "version_minor": 0
   }
  }
 },
 "nbformat": 4,
 "nbformat_minor": 5
}
